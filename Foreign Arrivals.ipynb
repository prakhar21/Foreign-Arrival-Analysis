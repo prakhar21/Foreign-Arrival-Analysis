{
 "cells": [
  {
   "cell_type": "code",
   "execution_count": 187,
   "metadata": {
    "collapsed": false
   },
   "outputs": [
    {
     "name": "stdout",
     "output_type": "stream",
     "text": [
      "nationality,region,_2001,_2002,_2003,_2004,_2005,_2006,_2007,_2008,_2009,_2010\r\n",
      "Canada,\"NORTH AMERICA\",88600,93598,107671,135884,157643,176567,208214,222364,224069,242372\r\n",
      "U.S.A.,\"NORTH AMERICA\",329147,348182,410803,526120,611165,696739,799062,804933,827140,931292\r\n",
      "Total,\"NORTH AMERICA\",417747,441780,518474,662004,768808,873306,1007276,1027297,1051209,1173664\r\n",
      "Argentina,\"CENTRAL AND SOUTH AMERICA\",2906,1359,1805,2799,3313,4493,4992,5087,6011,7626\r\n",
      "Brazil,\"CENTRAL AND SOUTH AMERICA\",3819,3622,4528,7397,7005,9148,10788,11530,13964,15219\r\n",
      "Mexico,\"CENTRAL AND SOUTH AMERICA\",3473,3105,3563,4570,5398,6502,8299,9272,8185,10458\r\n",
      "Others,\"CENTRAL AND SOUTH AMERICA\",11727,9586,11758,13399,19870,18602,18240,17616,18444,29425\r\n",
      "Total,\"CENTRAL AND SOUTH AMERICA\",21925,17672,21654,28165,35586,38745,42319,43505,46604,62728\r\n",
      "Austria,\"WESTERN EUROPE\",17787,13801,16903,21093,27187,28045,26692,25900,27930,32620\r\n",
      "Belgium,\"WESTERN EUROPE\",18851,13945,17309,24007,25596,29156,34207,36277,34759,37709\r\n"
     ]
    }
   ],
   "source": [
    "!curl -X GET \"https://api.data.gov.in/resource/f4810b98-1adb-464b-830b-8f38f10288b4?api-key=579b464db66ec23bdd000001cdd3946e44ce4aad7209ff7b23ac571b&format=csv&offset=0&limit=10\" -H  \"accept: application/xml\""
   ]
  },
  {
   "cell_type": "code",
   "execution_count": 216,
   "metadata": {
    "collapsed": false
   },
   "outputs": [],
   "source": [
    "#!/usr/bin/env python\n",
    "import requests\n",
    "import operator\n",
    "import itertools\n",
    "import plotly.plotly as py\n",
    "import matplotlib.pyplot as plt\n",
    "%matplotlib inline"
   ]
  },
  {
   "cell_type": "code",
   "execution_count": 189,
   "metadata": {
    "collapsed": true
   },
   "outputs": [],
   "source": [
    "# global variables\n",
    "\n",
    "API_URI=\"https://api.data.gov.in/resource/f4810b98-1adb-464b-830b-8f38f10288b4\"\n",
    "API_KEY=\"579b464db66ec23bdd000001cdd3946e44ce4aad7209ff7b23ac571b\""
   ]
  },
  {
   "cell_type": "code",
   "execution_count": 190,
   "metadata": {
    "collapsed": false
   },
   "outputs": [],
   "source": [
    "def send_request(offset):\n",
    "    response = requests.get(\n",
    "                            API_URI, \n",
    "                            params={\n",
    "                                    'format': 'json', 'offset': str(offset), \n",
    "                                    'limit': str(offset+10), 'api-key': API_KEY\n",
    "                                   }, \n",
    "                            headers={'Accept': 'application/xml'}\n",
    "                            )\n",
    "    fields = response.json().get('fields')\n",
    "    data = response.json().get('records')\n",
    "    return fields, data"
   ]
  },
  {
   "cell_type": "code",
   "execution_count": 191,
   "metadata": {
    "collapsed": false
   },
   "outputs": [],
   "source": [
    "F, D = [], []\n",
    "for offset in range(0, 200, 10):\n",
    "    fields, data = send_request(offset)\n",
    "    F.append(fields)\n",
    "    D.append(data)"
   ]
  },
  {
   "cell_type": "code",
   "execution_count": 192,
   "metadata": {
    "collapsed": false
   },
   "outputs": [
    {
     "data": {
      "text/plain": [
       "[\"{u'type': u'keyword', u'name': u'nationality'}\",\n",
       " \"{u'type': u'keyword', u'name': u'region'}\",\n",
       " \"{u'type': u'long', u'name': u'_2001'}\",\n",
       " \"{u'type': u'long', u'name': u'_2002'}\",\n",
       " \"{u'type': u'long', u'name': u'_2003'}\",\n",
       " \"{u'type': u'long', u'name': u'_2004'}\",\n",
       " \"{u'type': u'long', u'name': u'_2005'}\",\n",
       " \"{u'type': u'long', u'name': u'_2006'}\",\n",
       " \"{u'type': u'long', u'name': u'_2007'}\",\n",
       " \"{u'type': u'long', u'name': u'_2008'}\",\n",
       " \"{u'type': u'long', u'name': u'_2009'}\",\n",
       " \"{u'type': u'long', u'name': u'_2010'}\"]"
      ]
     },
     "execution_count": 192,
     "metadata": {},
     "output_type": "execute_result"
    }
   ],
   "source": [
    "fields = [str(field) for field in F[0]]\n",
    "fields"
   ]
  },
  {
   "cell_type": "code",
   "execution_count": 193,
   "metadata": {
    "collapsed": false
   },
   "outputs": [
    {
     "data": {
      "text/plain": [
       "88"
      ]
     },
     "execution_count": 193,
     "metadata": {},
     "output_type": "execute_result"
    }
   ],
   "source": [
    "D = [item for sublist in D for item in sublist]\n",
    "len(D)"
   ]
  },
  {
   "cell_type": "code",
   "execution_count": 286,
   "metadata": {
    "collapsed": false
   },
   "outputs": [],
   "source": [
    "def expand(d):\n",
    "    if d == 'u.k.': d='united kingdom'\n",
    "    elif d == 'u.a.e.': d='united arab emirates'\n",
    "    elif d == 'u.s.a.': d='united states'\n",
    "    return d\n",
    "total_count = dict()\n",
    "for _d in D:\n",
    "    total = []\n",
    "    nationality = _d.get('nationality')\n",
    "    if nationality not in [None, 'Total', 'Others']:\n",
    "        for year in _d.keys():\n",
    "            if year not in ['nationality', 'region']:\n",
    "                total.append(_d.get(year))\n",
    "    \n",
    "        total_count[expand(str(nationality).lower())] = sum(total)"
   ]
  },
  {
   "cell_type": "code",
   "execution_count": 195,
   "metadata": {
    "collapsed": false
   },
   "outputs": [
    {
     "data": {
      "text/plain": [
       "{'United Arab Emirates': 328673,\n",
       " 'United Kingdom': 6266931,\n",
       " 'United States': 6284583,\n",
       " 'afghanistan': 242186,\n",
       " 'argentina': 40391,\n",
       " 'australia': 1050752,\n",
       " 'austria': 237958,\n",
       " 'bahrein': 55576,\n",
       " 'bangladesh': 4662993,\n",
       " 'belgium': 271816,\n",
       " 'bhutan': 73323,\n",
       " 'brazil': 87020,\n",
       " 'canada': 1656982,\n",
       " 'china': 792881,\n",
       " 'cis': 873471,\n",
       " 'czechoslovakia': 58440,\n",
       " 'denmark': 222653,\n",
       " 'egypt': 47446,\n",
       " 'ethiopia': 31409,\n",
       " 'fiji': 20484,\n",
       " 'finland': 188053,\n",
       " 'france': 1572032,\n",
       " 'germany': 1423375,\n",
       " 'grand total': 40777832,\n",
       " 'greece': 52297,\n",
       " 'hong kong': 12244,\n",
       " 'hungary': 38324,\n",
       " 'indonesia': 150243,\n",
       " 'iran': 271566,\n",
       " 'ireland': 129848,\n",
       " 'israel': 385428,\n",
       " 'italy': 689855,\n",
       " 'japan': 1121229,\n",
       " 'jordan': 32180,\n",
       " 'kenya': 199743,\n",
       " 'korea': 604255,\n",
       " 'kuwait': 35293,\n",
       " 'malayasia': 1023274,\n",
       " 'maldives': 361455,\n",
       " 'mali': 4251,\n",
       " 'mauritius': 188735,\n",
       " 'maynnar': 76073,\n",
       " 'mexico': 62825,\n",
       " 'nepal': 701401,\n",
       " 'netherland': 551549,\n",
       " 'new zealand': 221171,\n",
       " 'nigeria': 112396,\n",
       " 'norway': 145757,\n",
       " 'oman': 211259,\n",
       " 'pakistan': 602211,\n",
       " 'philippines': 139805,\n",
       " 'poland': 138984,\n",
       " 'portugal': 127054,\n",
       " 'qatar': 21406,\n",
       " 'saudi arabia': 137340,\n",
       " 'singapore': 741022,\n",
       " 'south africa': 364979,\n",
       " 'spain': 472383,\n",
       " 'sri lanka': 1679242,\n",
       " 'stateless': 82523,\n",
       " 'sudan': 37008,\n",
       " 'sweden': 333246,\n",
       " 'switzerland': 336097,\n",
       " 'syria': 24545,\n",
       " 'tanzania': 119150,\n",
       " 'thailand': 438097,\n",
       " 'turkey': 84360,\n",
       " 'yemen arab rep.': 100191,\n",
       " 'zambia': 18863}"
      ]
     },
     "execution_count": 195,
     "metadata": {},
     "output_type": "execute_result"
    }
   ],
   "source": [
    "total_count"
   ]
  },
  {
   "cell_type": "code",
   "execution_count": 196,
   "metadata": {
    "collapsed": false
   },
   "outputs": [],
   "source": [
    "from countrycode import countrycode\n",
    "\n",
    "def get_code(country):\n",
    "    return countrycode(codes=country, origin='country_name', target='iso3c')\n",
    "\n",
    "codes = [(get_code(i), i) for i in total_count.keys() if len(get_code(i)) == 3 and get_code(i).isupper()]"
   ]
  },
  {
   "cell_type": "code",
   "execution_count": 197,
   "metadata": {
    "collapsed": false
   },
   "outputs": [
    {
     "data": {
      "text/html": [
       "<iframe id=\"igraph\" scrolling=\"no\" style=\"border:none;\" seamless=\"seamless\" src=\"https://plot.ly/~Prakhar21/38.embed\" height=\"525px\" width=\"100%\"></iframe>"
      ],
      "text/plain": [
       "<plotly.tools.PlotlyDisplay object>"
      ]
     },
     "execution_count": 197,
     "metadata": {},
     "output_type": "execute_result"
    }
   ],
   "source": [
    "\n",
    "data = [ dict(\n",
    "        type = 'choropleth',\n",
    "        locations = [i[0] for i in codes],\n",
    "        z = [total_count.get(i[1]) for i in codes],\n",
    "        text = [i[1] for i in codes],\n",
    "        colorscale = 'Viridis',\n",
    "        autocolorscale = False,\n",
    "        marker = dict(\n",
    "            line = dict (\n",
    "                color = 'rgb(180,180,180)',\n",
    "                width = 0.5\n",
    "            ) ),\n",
    "        colorbar = dict(\n",
    "            autotick = False,\n",
    "            tickprefix = '',\n",
    "            title = 'Total Tourists<br>Raw Count'),\n",
    "      ) ]\n",
    "\n",
    "layout = dict(\n",
    "    title = 'Tourists visiting India<br>(2001 - 2010)',\n",
    "    geo = dict(\n",
    "        showframe = False,\n",
    "        showcoastlines = False,\n",
    "        projection = dict(\n",
    "            type = 'Mercator'\n",
    "        )\n",
    "    )\n",
    ")\n",
    "\n",
    "fig = dict( data=data, layout=layout )\n",
    "py.iplot(fig, validate=False, filename='d3-world-map' )\n"
   ]
  },
  {
   "cell_type": "markdown",
   "metadata": {},
   "source": [
    "## Insight: 2\n",
    "#### % of countries visiting India between 2001 to 2010"
   ]
  },
  {
   "cell_type": "code",
   "execution_count": 241,
   "metadata": {
    "collapsed": false
   },
   "outputs": [
    {
     "name": "stdout",
     "output_type": "stream",
     "text": [
      "0.353846153846 % of the total countries visited india from 2001 to 2010\n"
     ]
    }
   ],
   "source": [
    "total_countries = 195.0  #source wikipedia\n",
    "percent = len(total_count.keys())/total_countries\n",
    "print '{} % of the total countries visited india from {} to {}'.format(percent, 2001, 2010)"
   ]
  },
  {
   "cell_type": "code",
   "execution_count": 249,
   "metadata": {
    "collapsed": false
   },
   "outputs": [
    {
     "data": {
      "image/png": "[encoded data removed]",
      "text/plain": [
       "<Figure size 600x400 with 1 Axes>"
      ]
     },
     "metadata": {},
     "output_type": "display_data"
    }
   ],
   "source": [
    "labels = 'Visitors', 'Rest of World'\n",
    "sizes = [percent*100, 100-percent*100]\n",
    "colors = ['gold', 'yellowgreen']\n",
    "explode = (0.1, 0,)\n",
    "plt.pie(sizes, explode=explode, labels=labels, colors=colors,\n",
    "        autopct='%1.1f%%', shadow=True, startangle=140)\n",
    "plt.title('% of countries that visited India (2001-2010)')\n",
    "plt.axis('equal')\n",
    "plt.show()"
   ]
  },
  {
   "cell_type": "markdown",
   "metadata": {},
   "source": [
    "## Insight: 3\n",
    "#### Top/Bottom 5 countries that visited India between 2001 to 2010"
   ]
  },
  {
   "cell_type": "code",
   "execution_count": 207,
   "metadata": {
    "collapsed": false
   },
   "outputs": [
    {
     "name": "stdout",
     "output_type": "stream",
     "text": [
      "['United States', 'United Kingdom', 'bangladesh', 'sri lanka', 'canada'] are top 5 countries visiting India from 2001 to 2010\n",
      "['qatar', 'fiji', 'zambia', 'hong kong', 'mali'] are bottom 5 countries visiting India from 2001 to 2010\n"
     ]
    }
   ],
   "source": [
    "sorted_x = sorted(total_count.items(), key=operator.itemgetter(1), reverse=True)\n",
    "countries = [j for j in sorted_x if j[0] in [i[1] for i in codes]]\n",
    "top_5 = countries[:5]\n",
    "bottom_5 = countries[-5:]\n",
    "print \"{} are top 5 countries visiting India from {} to {}\".format([i[0] for i in top_5], 2001, 2010)\n",
    "print \"{} are bottom 5 countries visiting India from {} to {}\".format([i[0] for i in bottom_5], 2001, 2010)"
   ]
  },
  {
   "cell_type": "code",
   "execution_count": 254,
   "metadata": {
    "collapsed": false
   },
   "outputs": [
    {
     "name": "stdout",
     "output_type": "stream",
     "text": [
      "[('United States', 6284583), ('United Kingdom', 6266931), ('bangladesh', 4662993), ('sri lanka', 1679242), ('canada', 1656982)]\n"
     ]
    }
   ],
   "source": [
    "print top_5"
   ]
  },
  {
   "cell_type": "code",
   "execution_count": 271,
   "metadata": {
    "collapsed": false
   },
   "outputs": [
    {
     "data": {
      "image/png": "[encoded data removed]",
      "text/plain": [
       "<Figure size 600x400 with 1 Axes>"
      ]
     },
     "metadata": {},
     "output_type": "display_data"
    }
   ],
   "source": [
    "fig, ax = plt.subplots()\n",
    "width = .50\n",
    "ind = range(len(top_5))\n",
    "plt.bar(ind, [i[1] for i in countries][:5], width=width, color=\"coral\")\n",
    "plt.title('Top 5 countries that visited India (2001-2010)')\n",
    "plt.ylabel('Visitors') \n",
    "ax.set_yticklabels(['', '1M', '2M', '3M', '4M', '5M', '6M'], minor=False)\n",
    "ax.set_xticklabels(['', 'U.S.A', 'U.K', 'Bangladesh', 'Srilanka', 'Canada'], rotation=45)\n",
    "ax.set_alpha(0.8)\n",
    "plt.show()"
   ]
  },
  {
   "cell_type": "code",
   "execution_count": 287,
   "metadata": {
    "collapsed": false
   },
   "outputs": [
    {
     "name": "stdout",
     "output_type": "stream",
     "text": [
      "{u'EAST ASIA': ['china', 'hong kong', 'japan', 'korea', 'others'], u' WEST ASIA': ['bahrein', 'israel', 'jordan', 'kuwait', 'oman', 'qatar', 'saudi arabia', 'syria', 'turkey', 'united arab emirates', 'yemen arab rep.', 'others'], u' EASTERN EUROPE': ['czechoslovakia', 'hungary', 'poland', 'cis', 'others'], u'AFRICA': ['egypt', 'ethiopia', 'kenya', 'mali', 'mauritius', 'nigeria', 'south africa', 'sudan', 'tanzania', 'zambia', 'others'], u'NORTH AMERICA': ['canada', 'united states'], u'AUSTRALASIA': ['australia', 'new zealand', 'fiji', 'others'], u'CENTRAL AND SOUTH AMERICA': ['argentina', 'brazil', 'mexico', 'others'], u'SOUTH EAST ASIA': ['indonesia', 'malayasia', 'maynnar', 'philippines', 'singapore', 'thailand', 'others'], u'SOUTH ASIA': ['afghanistan', 'iran', 'maldives', 'nepal', 'pakistan', 'bangladesh', 'sri lanka', 'bhutan'], u'WESTERN EUROPE': ['austria', 'belgium', 'denmark', 'finland', 'france', 'germany', 'greece', 'ireland', 'italy', 'netherland', 'norway', 'portugal', 'spain', 'sweden', 'switzerland', 'united kingdom', 'others']}\n"
     ]
    }
   ],
   "source": [
    "region_country_group = {}\n",
    "for i in D:\n",
    "    region = i.get('region')\n",
    "    if region.strip().lower() in ['others','','stateless']:\n",
    "        continue\n",
    "    if region not in region_country_group:\n",
    "        if i.get('nationality') != 'Total':\n",
    "            region_country_group[i.get('region')] = [expand(str(i.get('nationality'))).lower()]\n",
    "    else:\n",
    "        if i.get('nationality') != 'Total':\n",
    "            region_country_group[i.get('region')].append(expand(str(i.get('nationality')).lower()))\n",
    "print region_country_group"
   ]
  },
  {
   "cell_type": "code",
   "execution_count": null,
   "metadata": {
    "collapsed": true
   },
   "outputs": [],
   "source": []
  }
 ],
 "metadata": {
  "kernelspec": {
   "display_name": "Python 2",
   "language": "python",
   "name": "python2"
  },
  "language_info": {
   "codemirror_mode": {
    "name": "ipython",
    "version": 2
   },
   "file_extension": ".py",
   "mimetype": "text/x-python",
   "name": "python",
   "nbconvert_exporter": "python",
   "pygments_lexer": "ipython2",
   "version": "2.7.12"
  }
 },
 "nbformat": 4,
 "nbformat_minor": 1
}
